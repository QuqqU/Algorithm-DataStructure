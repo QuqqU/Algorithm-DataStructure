{
  "nbformat": 4,
  "nbformat_minor": 0,
  "metadata": {
    "colab": {
      "name": "MNIST",
      "provenance": [],
      "collapsed_sections": [],
      "authorship_tag": "ABX9TyOxWbYqy8bUeoW8jSEQVRTP",
      "include_colab_link": true
    },
    "kernelspec": {
      "name": "python3",
      "display_name": "Python 3"
    }
  },
  "cells": [
    {
      "cell_type": "markdown",
      "metadata": {
        "id": "view-in-github",
        "colab_type": "text"
      },
      "source": [
        "<a href=\"https://colab.research.google.com/github/QuqqU/Algorithm-DataStructure/blob/master/MNIST.ipynb\" target=\"_parent\"><img src=\"https://colab.research.google.com/assets/colab-badge.svg\" alt=\"Open In Colab\"/></a>"
      ]
    },
    {
      "cell_type": "markdown",
      "metadata": {
        "id": "OnEak3XbdDLH"
      },
      "source": [
        "# Pytorch로 MNIST 학습하기\n",
        "기본 모듈 다운로드"
      ]
    },
    {
      "cell_type": "code",
      "metadata": {
        "id": "FvGeZoZMVOWU"
      },
      "source": [
        "import numpy as np\n",
        "import matplotlib.pyplot as plt\n",
        "import torch\n",
        "import torch.nn as nn\n",
        "import torch.nn.functional as F\n",
        "from torchvision import transforms, datasets"
      ],
      "execution_count": 1,
      "outputs": []
    },
    {
      "cell_type": "markdown",
      "metadata": {
        "id": "JbysEr0ydNTz"
      },
      "source": [
        "구글 클라우드 마운트"
      ]
    },
    {
      "cell_type": "code",
      "metadata": {
        "id": "tLUcrwNfZpwS",
        "colab": {
          "base_uri": "https://localhost:8080/",
          "height": 0
        },
        "outputId": "25bea7d1-da7d-472c-9ea0-4d97dd888046"
      },
      "source": [
        "from google.colab import drive\n",
        "from os.path import join\n",
        "\n",
        "ROOT = '/content/drive'\n",
        "PROJECT_PATH = join(ROOT, 'MyDrive/datasets/mnist')\n",
        "\n",
        "drive.mount(ROOT)"
      ],
      "execution_count": 2,
      "outputs": [
        {
          "output_type": "stream",
          "text": [
            "Mounted at /content/drive\n"
          ],
          "name": "stdout"
        }
      ]
    },
    {
      "cell_type": "markdown",
      "metadata": {
        "id": "Btrd4mKWdV-h"
      },
      "source": [
        "환경 변수 설정"
      ]
    },
    {
      "cell_type": "code",
      "metadata": {
        "colab": {
          "base_uri": "https://localhost:8080/",
          "height": 0
        },
        "id": "Bi9VcCePWfC9",
        "outputId": "8a35564a-7678-454d-be36-348da389e7e1"
      },
      "source": [
        "if torch.cuda.is_available():\n",
        "    DEVICE = torch.device('cuda')\n",
        "else:\n",
        "    DEVICE = torch.device('cpu')\n",
        "\n",
        "print('Using PyTorch version:', torch.__version__, ' Device:', DEVICE)\n",
        "BATCH_SIZE = 32\n",
        "EPOCHS = 10"
      ],
      "execution_count": 3,
      "outputs": [
        {
          "output_type": "stream",
          "text": [
            "Using PyTorch version: 1.8.0+cu101  Device: cpu\n"
          ],
          "name": "stdout"
        }
      ]
    },
    {
      "cell_type": "markdown",
      "metadata": {
        "id": "SHgQPLXOdeZc"
      },
      "source": [
        "MNIST 구글 클라우드에 다운로드\n",
        "\n",
        "* 곧바로 다운로드를 하려면 Cloudflare때문에 403 fobidden이 생긴다. 아래의 자료를 참고하자.\n",
        "* 1) https://stackoverflow.com/questions/60548000/getting-http-error-403-forbidden-error-when-download-mnist-dataset\n",
        "* 2) https://github.com/pytorch/vision/issues/1938"
      ]
    },
    {
      "cell_type": "code",
      "metadata": {
        "id": "RJ8DiVgzcjse"
      },
      "source": [
        "import urllib\n",
        "from six.moves import urllib    \n",
        "opener = urllib.request.build_opener()\n",
        "opener.addheaders = [('User-agent', 'Mozilla/5.0')]\n",
        "urllib.request.install_opener(opener)\n",
        "def set_header_for(url, filename):\n",
        "    opener = urllib.request.URLopener()\n",
        "    opener.addheader('User-Agent', 'Mozilla/5.0 (Macintosh; Intel Mac OS X 10_9_3) AppleWebKit/537.36 (KHTML, like Gecko) Chrome/35.0.1916.47 Safari/537.36')\n",
        "    opener.retrieve(\n",
        "    url, f'{PROJECT_PATH}/{filename}')\n",
        "set_header_for('http://yann.lecun.com/exdb/mnist/train-images-idx3-ubyte.gz', 'train-images-idx3-ubyte.gz')\n",
        "set_header_for('http://yann.lecun.com/exdb/mnist/train-labels-idx1-ubyte.gz', 'train-labels-idx1-ubyte.gz')\n",
        "set_header_for('http://yann.lecun.com/exdb/mnist/t10k-images-idx3-ubyte.gz', 't10k-images-idx3-ubyte.gz')\n",
        "set_header_for('http://yann.lecun.com/exdb/mnist/t10k-labels-idx1-ubyte.gz', 't10k-labels-idx1-ubyte.gz')\n",
        "\n",
        "train_dataset = datasets.MNIST(root = PROJECT_PATH,\n",
        "                               train = True,\n",
        "                               download = True,\n",
        "                               transform = transforms.ToTensor())\n",
        "test_dataset = datasets.MNIST(root = PROJECT_PATH,\n",
        "                              train = False,\n",
        "                              download = True,\n",
        "                              transform = transforms.ToTensor())\n",
        "train_loader = torch.utils.data.DataLoader(dataset = train_dataset,\n",
        "                                           batch_size = BATCH_SIZE,\n",
        "                                           shuffle = True)\n",
        "test_loader = torch.utils.data.DataLoader(dataset = test_dataset,\n",
        "                                          batch_size = BATCH_SIZE,\n",
        "                                          shuffle = False)"
      ],
      "execution_count": null,
      "outputs": []
    },
    {
      "cell_type": "markdown",
      "metadata": {
        "id": "fvvBsGcWdjb4"
      },
      "source": [
        "데이터 확인"
      ]
    },
    {
      "cell_type": "code",
      "metadata": {
        "colab": {
          "base_uri": "https://localhost:8080/",
          "height": 121
        },
        "id": "ZBFAutN3cu0O",
        "outputId": "b5ecaa00-ec2e-480a-bfe2-b60d32ff2a5e"
      },
      "source": [
        "for(x_train, y_train) in train_loader:\n",
        "    print('x_train: ', x_train.size(), 'type: ', x_train.type())\n",
        "    print('y_train: ', y_train.size(), 'type: ', y_train.type())\n",
        "    break\n",
        "    \n",
        "# batch size = 32\n",
        "\n",
        "## answer\n",
        "print([y.item() for y in y_train])\n",
        "\n",
        "## hand-write data\n",
        "pltsize = 1\n",
        "plt.figure(figsize=(32 * pltsize, pltsize))\n",
        "for i in range(1, 32):\n",
        "    plt.subplot(1, 31, i)\n",
        "    plt.axis('off')\n",
        "    plt.imshow(x_train[i, :, :, :].numpy().reshape(28, 28), cmap = \"gray_r\")"
      ],
      "execution_count": 5,
      "outputs": [
        {
          "output_type": "stream",
          "text": [
            "x_train:  torch.Size([32, 1, 28, 28]) type:  torch.FloatTensor\n",
            "y_train:  torch.Size([32]) type:  torch.LongTensor\n",
            "[4, 8, 1, 3, 3, 8, 7, 5, 6, 0, 4, 0, 3, 2, 2, 6, 2, 5, 4, 5, 2, 2, 2, 7, 0, 2, 3, 3, 2, 0, 1, 9]\n"
          ],
          "name": "stdout"
        },
        {
          "output_type": "display_data",
          "data": {
            "image/png": "[encoded data removed]",
            "text/plain": [
              "<Figure size 2304x72 with 31 Axes>"
            ]
          },
          "metadata": {
            "tags": [],
            "needs_background": "light"
          }
        }
      ]
    },
    {
      "cell_type": "markdown",
      "metadata": {
        "id": "BmTsyxIIdnGg"
      },
      "source": [
        "# MLP 구축하기\n",
        "입력층 -> 시그모이드\n",
        "-> 히든 -> 시그모이드\n",
        "-> 출력층 -> 소프트맥스"
      ]
    },
    {
      "cell_type": "code",
      "metadata": {
        "id": "ZEIHrmkUmw-P"
      },
      "source": [
        "class MLP(nn.Module):\n",
        "    def __init__(self):\n",
        "        super(MLP, self).__init__()\n",
        "        self.fc1 = nn.Linear(28 * 28, 512)\n",
        "        self.fc2 = nn.Linear(512, 256)\n",
        "        self.fc3 = nn.Linear(256, 10)\n",
        "    \n",
        "    def forward(self, x):\n",
        "        x = x.view(-1, 28 * 28)\n",
        "        x = self.fc1(x)\n",
        "        x = F.sigmoid(x)\n",
        "        x = self.fc2(x)\n",
        "        x = F.sigmoid(x)\n",
        "        x = self.fc3(x)\n",
        "        x = F.log_softmax(x, dim=1)\n",
        "        return x"
      ],
      "execution_count": 96,
      "outputs": []
    },
    {
      "cell_type": "markdown",
      "metadata": {
        "id": "uAVWZMCCeG7P"
      },
      "source": [
        "모델 확인하기"
      ]
    },
    {
      "cell_type": "code",
      "metadata": {
        "id": "mLUldIZtneLc",
        "colab": {
          "base_uri": "https://localhost:8080/",
          "height": 0
        },
        "outputId": "a42dff25-95e7-47cc-a70b-0fd5b42dd499"
      },
      "source": [
        "model1 = MLP().to(DEVICE)\n",
        "model2 = MLP().to(DEVICE)\n",
        "model3 = MLP().to(DEVICE)\n",
        "model4 = MLP().to(DEVICE)\n",
        "print(model1)"
      ],
      "execution_count": 97,
      "outputs": [
        {
          "output_type": "stream",
          "text": [
            "MLP(\n",
            "  (fc1): Linear(in_features=784, out_features=512, bias=True)\n",
            "  (fc2): Linear(in_features=512, out_features=256, bias=True)\n",
            "  (fc3): Linear(in_features=256, out_features=10, bias=True)\n",
            ")\n"
          ],
          "name": "stdout"
        }
      ]
    },
    {
      "cell_type": "markdown",
      "metadata": {
        "id": "6VlmDkiueLdw"
      },
      "source": [
        "옵티마이저와 손실함수\n",
        "1. 옵티마이저 SGD(확률적 경사 하강법) : 무난하게 많이 사용하는 걸 사용했다.\n",
        "    learning rate = 0.01\n",
        "    momemtum = 0\n",
        "2. 손실함수 : CrossEntorpyLoss\n",
        "\n"
      ]
    },
    {
      "cell_type": "code",
      "metadata": {
        "id": "I8VVlogtWAMH"
      },
      "source": [
        "optim1 = torch.optim.SGD(model1.parameters(), lr = 0.05)\n",
        "optim2 = torch.optim.SGD(model2.parameters(), lr = 0.05)\n",
        "optim3 = torch.optim.SGD(model3.parameters(), lr = 0.05)\n",
        "optim4 = torch.optim.SGD(model4.parameters(), lr = 0.05)\n",
        "crite = nn.CrossEntropyLoss()"
      ],
      "execution_count": 98,
      "outputs": []
    },
    {
      "cell_type": "markdown",
      "metadata": {
        "id": "yljwI38w98Eq"
      },
      "source": [
        "학습시키기"
      ]
    },
    {
      "cell_type": "code",
      "metadata": {
        "id": "GoJAJcnBVhx9"
      },
      "source": [
        "def train(model, train_loader, optim, qtr=4):\n",
        "    model.train()\n",
        "    for batch_idx, (image, label) in enumerate(train_loader):\n",
        "        if(batch_idx > len(train_loader.dataset) * qtr // 4): break\n",
        "        x = image.to(DEVICE)\n",
        "        y = label.to(DEVICE)\n",
        "        optim.zero_grad()\n",
        "        y_hat = model(x)\n",
        "        loss = crite(y_hat, y)\n",
        "        loss.backward()\n",
        "        optim.step()\n"
      ],
      "execution_count": 99,
      "outputs": []
    },
    {
      "cell_type": "markdown",
      "metadata": {
        "id": "ETaNPY-_-BFx"
      },
      "source": [
        "테스트하기"
      ]
    },
    {
      "cell_type": "code",
      "metadata": {
        "id": "KbowbmHtb9Nh"
      },
      "source": [
        "def test(model, test_loader):\n",
        "    model.eval()\n",
        "    loss = 0\n",
        "    ans = 0\n",
        "\n",
        "    with torch.no_grad():\n",
        "        for image, label in test_loader:\n",
        "            x = image.to(DEVICE)\n",
        "            y = label.to(DEVICE)\n",
        "            y_hat = model(x)\n",
        "            loss += crite(y_hat, y).item()\n",
        "            prediction = y_hat.max(1, keepdim=True)[1]\n",
        "            ans += prediction.eq(y.view_as(prediction)).sum().item()\n",
        "\n",
        "    loss /= len(test_loader.dataset)\n",
        "    accuracy = 100. * ans / len(test_loader.dataset)\n",
        "    return loss, accuracy"
      ],
      "execution_count": 100,
      "outputs": []
    },
    {
      "cell_type": "markdown",
      "metadata": {
        "id": "JbcLDy3h-TNT"
      },
      "source": [
        "# 모델 학습 후 테스트\n",
        "## total_loss & accuracy\n",
        "1. 전체 데이터셋 1/4 사용 학습\n"
      ]
    },
    {
      "cell_type": "code",
      "metadata": {
        "id": "BEGyrGfFnKQ2"
      },
      "source": [
        "for epoch in range(3):\n",
        "    train(model1, train_loader, optim1, 1)\n",
        "    l1, a1 = test(model1, test_loader)\n",
        "    print(l1, a1)"
      ],
      "execution_count": null,
      "outputs": []
    },
    {
      "cell_type": "markdown",
      "metadata": {
        "id": "tEbW1Suu-ksK"
      },
      "source": [
        "2. 전체 데이터셋 2/4 사용 학습"
      ]
    },
    {
      "cell_type": "code",
      "metadata": {
        "id": "majSi3AHnaWv"
      },
      "source": [
        "for epoch in range(5):\n",
        "    train(model2, train_loader, optim2, 1)\n",
        "    l2, a2 = test(model2, test_loader)\n",
        "    print(l2, a2)"
      ],
      "execution_count": null,
      "outputs": []
    },
    {
      "cell_type": "markdown",
      "metadata": {
        "id": "d92JyQsf-mTK"
      },
      "source": [
        "3. 전체 데이터셋 3/4 사용 학습"
      ]
    },
    {
      "cell_type": "code",
      "metadata": {
        "id": "qaMwCflhoZ_U"
      },
      "source": [
        "for epoch in range(5):\n",
        "    train(model3, train_loader, optim3, 1)\n",
        "    l3, a3 = test(model3, test_loader)\n",
        "    print(l3, a3)"
      ],
      "execution_count": null,
      "outputs": []
    },
    {
      "cell_type": "markdown",
      "metadata": {
        "id": "9WXRMdkK-oa2"
      },
      "source": [
        "4. 전체 데이터셋 4/4 사용 학습"
      ]
    },
    {
      "cell_type": "code",
      "metadata": {
        "id": "igcDlM6VocZL"
      },
      "source": [
        "for epoch in range(5):\n",
        "    train(model4, train_loader, optim4, 1)\n",
        "    l4, a4 = test(model4, test_loader)\n",
        "    print(l4, a4)"
      ],
      "execution_count": null,
      "outputs": []
    },
    {
      "cell_type": "markdown",
      "metadata": {
        "id": "JSUpOAUyGp-0"
      },
      "source": [
        "# 학습결과"
      ]
    },
    {
      "cell_type": "code",
      "metadata": {
        "colab": {
          "base_uri": "https://localhost:8080/",
          "height": 279
        },
        "id": "zVRHuTSl4MoN",
        "outputId": "bf02efa9-0b72-4612-850a-c3ce314e3e3d"
      },
      "source": [
        "plt.subplot(1, 2, 1)\n",
        "plt.xlabel('percent of training data(%)')\n",
        "plt.xticks([25, 50, 75, 100])\n",
        "plt.ylabel('loss(blue)')\n",
        "plt.plot([25, 50, 75, 100], [l1, l2, l3, l4], 'bs')\n",
        "plt.subplot(1, 2, 2)\n",
        "plt.xlabel('percent of training data(%)')\n",
        "plt.xticks([25, 50, 75, 100])\n",
        "plt.ylabel('accuracy(red)')\n",
        "plt.plot([25, 50, 75, 100], [a1, a2, a3, a4], 'ro')\n",
        "plt.show()"
      ],
      "execution_count": 117,
      "outputs": [
        {
          "output_type": "display_data",
          "data": {
            "image/png": "[encoded data removed]",
            "text/plain": [
              "<Figure size 432x288 with 2 Axes>"
            ]
          },
          "metadata": {
            "tags": [],
            "needs_background": "light"
          }
        }
      ]
    }
  ]
}